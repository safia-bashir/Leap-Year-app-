{
 "cells": [
  {
   "cell_type": "code",
   "execution_count": 19,
   "metadata": {},
   "outputs": [
    {
     "name": "stdout",
     "output_type": "stream",
     "text": [
      "Enter a year:- 2004\n",
      "2004 is a leap year!!\n"
     ]
    }
   ],
   "source": [
    "year = int(input(\"Enter a year:- \"))   # Here, you take the input from the user\n",
    "\n",
    "# step 1 : check if year is eveanly devide by 4 go to step 2   otherwise go to step 4 \n",
    "if year % 4 ==0:  \n",
    "# step 2: check if year is not evenly devided by 100 otherwise go to step 3  \n",
    "    if year %100 !=0: \n",
    "        print(\"{0} is a leap year!!\".format(year))\n",
    "        \n",
    "# step 3: check if year is evenly devided by 400        \n",
    "    else: \n",
    "        if year %400==0:\n",
    "            print(\"{0} is a leap year!!\".format(year))\n",
    "        else:\n",
    "             print(\"{0} is not a leap year!!\".format(year))\n",
    "#step 4            \n",
    "else:\n",
    "    print(\"{0} is not a leap year!!\".format(year))"
   ]
  },
  {
   "cell_type": "code",
   "execution_count": null,
   "metadata": {},
   "outputs": [],
   "source": [
    "4*5 "
   ]
  }
 ],
 "metadata": {
  "kernelspec": {
   "display_name": "Python 3 (ipykernel)",
   "language": "python",
   "name": "python3"
  },
  "language_info": {
   "codemirror_mode": {
    "name": "ipython",
    "version": 3
   },
   "file_extension": ".py",
   "mimetype": "text/x-python",
   "name": "python",
   "nbconvert_exporter": "python",
   "pygments_lexer": "ipython3",
   "version": "3.9.7"
  }
 },
 "nbformat": 4,
 "nbformat_minor": 4
}
